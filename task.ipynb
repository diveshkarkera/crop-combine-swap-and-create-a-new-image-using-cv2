{
 "cells": [
  {
   "cell_type": "code",
   "execution_count": 1,
   "id": "b502f3f1",
   "metadata": {},
   "outputs": [],
   "source": [
    "import cv2\n"
   ]
  },
  {
   "cell_type": "code",
   "execution_count": 2,
   "id": "83f236ef",
   "metadata": {},
   "outputs": [],
   "source": [
    "pic1 = cv2.imread('myimg1.jpg')"
   ]
  },
  {
   "cell_type": "code",
   "execution_count": 3,
   "id": "8bc6ba8c",
   "metadata": {},
   "outputs": [],
   "source": [
    "pic2 = cv2.imread('myimg2.jpg')"
   ]
  },
  {
   "cell_type": "code",
   "execution_count": 4,
   "id": "b5e086ed",
   "metadata": {},
   "outputs": [
    {
     "data": {
      "text/plain": [
       "(230, 235, 3)"
      ]
     },
     "execution_count": 4,
     "metadata": {},
     "output_type": "execute_result"
    }
   ],
   "source": [
    "pic1.shape"
   ]
  },
  {
   "cell_type": "code",
   "execution_count": 5,
   "id": "6d8c0fde",
   "metadata": {},
   "outputs": [
    {
     "data": {
      "text/plain": [
       "(222, 236, 3)"
      ]
     },
     "execution_count": 5,
     "metadata": {},
     "output_type": "execute_result"
    }
   ],
   "source": [
    "pic2.shape"
   ]
  },
  {
   "cell_type": "code",
   "execution_count": 6,
   "id": "a88e7140",
   "metadata": {},
   "outputs": [],
   "source": [
    "cv2.imshow('pic1',pic1)\n",
    "cv2.imshow('pic2',pic2)\n",
    "cv2.waitKey(0)\n",
    "cv2.destroyAllWindows()\n",
    "\n"
   ]
  },
  {
   "cell_type": "raw",
   "id": "facec618",
   "metadata": {},
   "source": []
  },
  {
   "cell_type": "code",
   "execution_count": 7,
   "id": "5742afe2",
   "metadata": {},
   "outputs": [
    {
     "data": {
      "text/plain": [
       "-1"
      ]
     },
     "execution_count": 7,
     "metadata": {},
     "output_type": "execute_result"
    }
   ],
   "source": [
    "crop_pic1 = pic1[10:50, 150:200]\n",
    "pic2[10:50,150:200] = crop_pic1\n",
    "cv2.imshow('swaped' , pic2)\n",
    "cv2.waitKey(0)"
   ]
  },
  {
   "cell_type": "code",
   "execution_count": 8,
   "id": "01e7f9fa",
   "metadata": {},
   "outputs": [
    {
     "data": {
      "text/plain": [
       "-1"
      ]
     },
     "execution_count": 8,
     "metadata": {},
     "output_type": "execute_result"
    }
   ],
   "source": [
    "pic2 = cv2.imread('myimg2.jpg')\n",
    "crop_pic2 = pic2[20:60,150:200]\n",
    "pic1[10:50,150:200] = crop_pic2\n",
    "cv2.imshow('swaped' , pic1)\n",
    "cv2.waitKey(0)\n"
   ]
  },
  {
   "cell_type": "code",
   "execution_count": null,
   "id": "ea0c7477",
   "metadata": {},
   "outputs": [],
   "source": []
  }
 ],
 "metadata": {
  "kernelspec": {
   "display_name": "Python 3",
   "language": "python",
   "name": "python3"
  },
  "language_info": {
   "codemirror_mode": {
    "name": "ipython",
    "version": 3
   },
   "file_extension": ".py",
   "mimetype": "text/x-python",
   "name": "python",
   "nbconvert_exporter": "python",
   "pygments_lexer": "ipython3",
   "version": "3.8.8"
  }
 },
 "nbformat": 4,
 "nbformat_minor": 5
}
